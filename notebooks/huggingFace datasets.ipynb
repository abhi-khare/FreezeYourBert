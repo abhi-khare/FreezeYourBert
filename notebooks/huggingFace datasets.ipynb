{
 "cells": [
  {
   "cell_type": "code",
   "execution_count": null,
   "id": "ded2b19c",
   "metadata": {},
   "outputs": [],
   "source": [
    "from datasets import load_dataset\n",
    "from transformers import AutoTokenizer"
   ]
  },
  {
   "cell_type": "code",
   "execution_count": null,
   "id": "e7652699",
   "metadata": {
    "scrolled": true
   },
   "outputs": [],
   "source": [
    "dataset = load_dataset(\"yahoo_answers_topics\")"
   ]
  },
  {
   "cell_type": "code",
   "execution_count": null,
   "id": "6eabd570",
   "metadata": {},
   "outputs": [],
   "source": [
    "dataset"
   ]
  },
  {
   "cell_type": "code",
   "execution_count": null,
   "id": "5b8fb6c3",
   "metadata": {},
   "outputs": [],
   "source": [
    "# renaming 'topic' to 'label'\n",
    "dataset = dataset.rename_column(\"topic\", \"label\")\n",
    "dataset"
   ]
  },
  {
   "cell_type": "code",
   "execution_count": null,
   "id": "5caab94d",
   "metadata": {},
   "outputs": [],
   "source": [
    "# creating train, val, test split\n",
    "\n",
    "# keeping validation size same as test set if not already split\n",
    "train_valid = dataset[\"train\"].train_test_split(test_size=60000)\n",
    "\n",
    "valid = train_valid['test']\n",
    "train = train_valid['train']\n",
    "test = dataset[\"test\"]\n",
    "\n",
    "print(len(train), len(valid), len(test))"
   ]
  },
  {
   "cell_type": "code",
   "execution_count": null,
   "id": "da2bede9",
   "metadata": {},
   "outputs": [],
   "source": [
    "train[0]"
   ]
  },
  {
   "cell_type": "code",
   "execution_count": null,
   "id": "4b824a90",
   "metadata": {},
   "outputs": [],
   "source": [
    "# loading roberta tokenizer model\n",
    "tokenizer = AutoTokenizer.from_pretrained(\"roberta-base\")"
   ]
  },
  {
   "cell_type": "code",
   "execution_count": null,
   "id": "ca481d10",
   "metadata": {},
   "outputs": [],
   "source": [
    "def tokenization(example):\n",
    "    return tokenizer(example[\"question_title\"], padding = True, truncation=True)"
   ]
  },
  {
   "cell_type": "code",
   "execution_count": null,
   "id": "4046b0f5",
   "metadata": {},
   "outputs": [],
   "source": [
    "dataset_tok = train.map(tokenization, batched=True)"
   ]
  },
  {
   "cell_type": "code",
   "execution_count": null,
   "id": "bfd451e2",
   "metadata": {},
   "outputs": [],
   "source": [
    "dataset_tok.set_format('torch', columns=['input_ids', 'attention_mask', 'label'])"
   ]
  },
  {
   "cell_type": "code",
   "execution_count": null,
   "id": "fa83a6b4",
   "metadata": {},
   "outputs": [],
   "source": [
    "dataset_tok"
   ]
  },
  {
   "cell_type": "code",
   "execution_count": null,
   "id": "616d8da2",
   "metadata": {},
   "outputs": [],
   "source": []
  }
 ],
 "metadata": {
  "kernelspec": {
   "display_name": "Python 3 (ipykernel)",
   "language": "python",
   "name": "python3"
  },
  "language_info": {
   "codemirror_mode": {
    "name": "ipython",
    "version": 3
   },
   "file_extension": ".py",
   "mimetype": "text/x-python",
   "name": "python",
   "nbconvert_exporter": "python",
   "pygments_lexer": "ipython3",
   "version": "3.10.6"
  }
 },
 "nbformat": 4,
 "nbformat_minor": 5
}
